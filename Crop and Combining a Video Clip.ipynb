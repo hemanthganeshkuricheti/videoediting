{
 "cells": [
  {
   "cell_type": "markdown",
   "id": "ecf5ec3a",
   "metadata": {},
   "source": [
    "### Crop Video Clips"
   ]
  },
  {
   "cell_type": "code",
   "execution_count": null,
   "id": "41beca61",
   "metadata": {},
   "outputs": [],
   "source": [
    "from moviepy.editor import *"
   ]
  },
  {
   "cell_type": "code",
   "execution_count": null,
   "id": "654e81d6",
   "metadata": {},
   "outputs": [],
   "source": [
    "video= VideoFileClip(r'C:\\Users\\heman\\Downloads\\Namo_Namo.mp4')\n"
   ]
  },
  {
   "cell_type": "code",
   "execution_count": null,
   "id": "5ad7af64",
   "metadata": {},
   "outputs": [],
   "source": [
    "#Since it wont play high duration videos, Lets take a sub clip to check the file\n",
    "\n",
    "preview= video.subclip(t_start=(0,1,0),t_end=(0,1,10))\n",
    "preview.ipython_display()"
   ]
  },
  {
   "cell_type": "markdown",
   "id": "7c1a0aa0",
   "metadata": {},
   "source": [
    "# Now croping the video file\n",
    "\n",
    "Select the start timing of a video clip and end timing of a video clip in (hh, mm, ss) format\n",
    "\n",
    "Eg:    t_start=(0, 10,30) to t_end=(0,11,0) -- this command crops the clip from 10mins 30 sec to 11 mins in a video file"
   ]
  },
  {
   "cell_type": "code",
   "execution_count": null,
   "id": "24fdaa73",
   "metadata": {},
   "outputs": [],
   "source": [
    "video_crop= video.subclip(t_start=(0,1,30), t_end=(0,2,0))\n",
    "video_crop.ipython_display(width=320)"
   ]
  },
  {
   "cell_type": "code",
   "execution_count": null,
   "id": "870cdfcf",
   "metadata": {},
   "outputs": [],
   "source": [
    "#Save the cropped video file\n",
    "video_crop.write_videofile(r'D:\\new2.mp4')"
   ]
  },
  {
   "cell_type": "markdown",
   "id": "dece89fe",
   "metadata": {},
   "source": [
    "### Combining Multiple Video clips"
   ]
  },
  {
   "cell_type": "code",
   "execution_count": null,
   "id": "4472730b",
   "metadata": {},
   "outputs": [],
   "source": [
    "# load the video file\n",
    "\n",
    "clip1= VideoFileClip(r'C:\\Users\\heman\\Downloads\\Namo_Namo.mp4')\n",
    "clip2= VideoFileClip(r'C:\\Users\\heman\\Downloads\\Namo_Namo.mp4')"
   ]
  },
  {
   "cell_type": "code",
   "execution_count": null,
   "id": "87e475cc",
   "metadata": {},
   "outputs": [],
   "source": [
    "combined_clip= concatenate_videoclips([clip1, clip2])"
   ]
  },
  {
   "cell_type": "code",
   "execution_count": null,
   "id": "b808b650",
   "metadata": {},
   "outputs": [],
   "source": [
    "# I m resizing the video clip to save the space\n",
    "combined_clip.fx(vfx.resize, 0.2)\n"
   ]
  },
  {
   "cell_type": "code",
   "execution_count": null,
   "id": "66ced083",
   "metadata": {},
   "outputs": [],
   "source": [
    "#saving the video file\n",
    "combined_clip.write_videofile(r'D:\\new2.mp4')"
   ]
  },
  {
   "cell_type": "code",
   "execution_count": null,
   "id": "50b5a1d5",
   "metadata": {},
   "outputs": [],
   "source": []
  }
 ],
 "metadata": {
  "kernelspec": {
   "display_name": "Python 3",
   "language": "python",
   "name": "python3"
  },
  "language_info": {
   "codemirror_mode": {
    "name": "ipython",
    "version": 3
   },
   "file_extension": ".py",
   "mimetype": "text/x-python",
   "name": "python",
   "nbconvert_exporter": "python",
   "pygments_lexer": "ipython3",
   "version": "3.8.10"
  }
 },
 "nbformat": 4,
 "nbformat_minor": 5
}
