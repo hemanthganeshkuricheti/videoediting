{
 "cells": [
  {
   "cell_type": "code",
   "execution_count": null,
   "id": "e32319bc",
   "metadata": {},
   "outputs": [],
   "source": [
    "!pip install moviepy\n",
    "!pip install ez-setup\n",
    "\n",
    "#download and install Image Magick from the below link\n",
    "# https://www.imagemagick.org/script/download.php"
   ]
  },
  {
   "cell_type": "markdown",
   "id": "d8dba880",
   "metadata": {},
   "source": [
    "### To Resize your Video Clip"
   ]
  },
  {
   "cell_type": "code",
   "execution_count": null,
   "id": "bb6e136c",
   "metadata": {},
   "outputs": [],
   "source": [
    "from moviepy.editor import *\n"
   ]
  },
  {
   "cell_type": "code",
   "execution_count": null,
   "id": "a4b794b4",
   "metadata": {},
   "outputs": [],
   "source": [
    "#load your existing video flie\n",
    "\n",
    "file= VideoFileClip(r'C:\\Users\\heman\\Downloads\\Namo_Namo.mp4')\n",
    "\n",
    "#check the size of your video file - below codel gives Width and lenght of a frame\n",
    "file.size"
   ]
  },
  {
   "cell_type": "code",
   "execution_count": null,
   "id": "eef689ac",
   "metadata": {},
   "outputs": [],
   "source": [
    "# Resize your video file. Eg= 0.5 reduces to half the size, 0.2 gives one fifth of the file size\n",
    "\n",
    "file_resize= file.fx(vfx.resize, 0.2)\n",
    "\n",
    "#recheck the size of your new clip\n",
    "file_resize.size"
   ]
  },
  {
   "cell_type": "code",
   "execution_count": null,
   "id": "4b72ccc1",
   "metadata": {},
   "outputs": [],
   "source": [
    "# usually it wont play lenght videos in this notebook so this step is optional\n",
    "\n",
    "file_resize.ipython_display(width=280)"
   ]
  },
  {
   "cell_type": "code",
   "execution_count": null,
   "id": "55cd7ce5",
   "metadata": {},
   "outputs": [],
   "source": [
    "#saving the new clip in preferred location\n",
    "\n",
    "file_resize.write_videofile(r'D:\\new.mp4')"
   ]
  },
  {
   "cell_type": "code",
   "execution_count": null,
   "id": "303626a6",
   "metadata": {},
   "outputs": [],
   "source": []
  },
  {
   "cell_type": "code",
   "execution_count": null,
   "id": "ede95eb9",
   "metadata": {},
   "outputs": [],
   "source": []
  }
 ],
 "metadata": {
  "kernelspec": {
   "display_name": "Python 3",
   "language": "python",
   "name": "python3"
  },
  "language_info": {
   "codemirror_mode": {
    "name": "ipython",
    "version": 3
   },
   "file_extension": ".py",
   "mimetype": "text/x-python",
   "name": "python",
   "nbconvert_exporter": "python",
   "pygments_lexer": "ipython3",
   "version": "3.8.10"
  }
 },
 "nbformat": 4,
 "nbformat_minor": 5
}
